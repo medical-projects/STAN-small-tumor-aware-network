{
  "nbformat": 4,
  "nbformat_minor": 0,
  "metadata": {
    "colab": {
      "name": "STAN.ipynb",
      "provenance": [],
      "collapsed_sections": [],
      "toc_visible": true
    },
    "kernelspec": {
      "name": "python3",
      "display_name": "Python 3"
    },
    "accelerator": "GPU"
  },
  "cells": [
    {
      "cell_type": "code",
      "metadata": {
        "id": "JF7rG59HvaSf",
        "colab_type": "code",
        "colab": {}
      },
      "source": [
        "import os\n",
        "os.chdir('/content/drive/My Drive/BUSI')"
      ],
      "execution_count": 0,
      "outputs": []
    },
    {
      "cell_type": "markdown",
      "metadata": {
        "id": "OcwyK4I-XMFI",
        "colab_type": "text"
      },
      "source": [
        "# Import modules"
      ]
    },
    {
      "cell_type": "code",
      "metadata": {
        "id": "Re3kUdkKX3iv",
        "colab_type": "code",
        "colab": {}
      },
      "source": [
        "import math\n",
        "import cv2\n",
        "import numpy as np\n",
        "from PIL import Image\n",
        "import tensorflow as tf\n",
        "from tensorflow.keras.layers import (\n",
        "    Conv2D, Dense, Flatten, Activation,\n",
        "    InputLayer, BatchNormalization, \n",
        "    Concatenate, MaxPooling2D, Layer, \n",
        "    UpSampling2D, Conv2DTranspose, Input\n",
        ") \n",
        "from tensorflow.keras.models import Model\n",
        "\n",
        "import tensorflow as tf\n",
        "import tensorflow.keras.backend as K\n",
        "from tensorflow.keras.callbacks import (\n",
        "    EarlyStopping, ModelCheckpoint,\n",
        "    ReduceLROnPlateau\n",
        ")\n",
        "from tensorflow.keras.losses import binary_crossentropy\n",
        "from tensorflow.keras.preprocessing.image import ImageDataGenerator, Iterator\n",
        "from tensorflow.keras.utils import Sequence\n",
        "\n",
        "from sklearn.model_selection import train_test_split\n",
        "import matplotlib.pyplot as plt"
      ],
      "execution_count": 0,
      "outputs": []
    },
    {
      "cell_type": "markdown",
      "metadata": {
        "id": "_gGOXxQSyxUJ",
        "colab_type": "text"
      },
      "source": [
        "# STAN Model implementation"
      ]
    },
    {
      "cell_type": "markdown",
      "metadata": {
        "id": "_-vrMH05XI6O",
        "colab_type": "text"
      },
      "source": [
        "### Blocks"
      ]
    },
    {
      "cell_type": "code",
      "metadata": {
        "id": "atMfIgh6bQGa",
        "colab_type": "code",
        "colab": {}
      },
      "source": [
        "\n",
        "class Conv2DBlock(Layer):\n",
        "    def __init__(self, n_filters, kernel_size, activation='relu', use_bn=False, name='conv2d', **kwargs):\n",
        "        super(Conv2DBlock, self).__init__()\n",
        "        self.conv = Conv2D(n_filters, kernel_size, name=f'{name}_conv', use_bias=(not use_bn), padding='same')\n",
        "        self.use_bn = use_bn\n",
        "        if use_bn:\n",
        "            self.bn = BatchNorm(name=f'{name}_bn')\n",
        "        self.activation = Activation(activation, name=f'{name}_activation')\n",
        "        \n",
        "    def call(self, x):\n",
        "        x = self.conv(x)\n",
        "        if self.use_bn:\n",
        "            x = self.bn(x)\n",
        "        x = self.activation(x)\n",
        "        return x\n",
        "\n",
        "\n",
        "class BatchNorm(BatchNormalization):\n",
        "    \"\"\"\n",
        "    Make trainable=False freeze BN for real (the og version is sad)\n",
        "    \"\"\"\n",
        "    def call(self, x, training=False):\n",
        "        if training is None:\n",
        "            training = tf.constant(False)\n",
        "        training = tf.logical_and(training, self.trainable)\n",
        "        return super().call(x, training)\n",
        "\n",
        "\n",
        "class EncoderBlock(Layer):\n",
        "    def __init__(self, n_filters, name='enc'):\n",
        "        super(EncoderBlock, self).__init__()\n",
        "        self.conv3_1 = Conv2DBlock(n_filters=n_filters, kernel_size=3, name=f'{name}_kernel3_1')\n",
        "        self.conv3_2 = Conv2DBlock(n_filters=n_filters, kernel_size=3, name=f'{name}_kernel3_2')\n",
        "        self.conv3_pool = MaxPooling2D(pool_size=(2,2), name=f'{name}_kernel3_pool')\n",
        "\n",
        "        self.conv1_1 = Conv2DBlock(n_filters=n_filters, kernel_size=1, name=f'{name}_kernel1_1')\n",
        "        self.conv1_2 = Conv2DBlock(n_filters=n_filters, kernel_size=1, name=f'{name}_kernel1_2')\n",
        "\n",
        "        self.conv5_1 = Conv2DBlock(n_filters=n_filters, kernel_size=5, name=f'{name}_kernel5_1')\n",
        "        self.conv5_2 = Conv2DBlock(n_filters=n_filters, kernel_size=5, name=f'{name}_kernel5_1')\n",
        "        self.agg_pool = MaxPooling2D(pool_size=(2,2), name=f'{name}_agg_pool')\n",
        "\n",
        "\n",
        "    def call(self, kernel3_inp, kernelconcat_inp):\n",
        "        \"\"\"Feed forward through the Encoder block\n",
        "\n",
        "        Arguments:\n",
        "            kernel3_inp {tensor} -- feature maps of kernel3 conv from previous block or just an image\n",
        "            kernelconcat_inp {[type]} -- feature maps of concatenation (kernel1 + kernel5) from previous block or just an image\n",
        "\n",
        "        Returns:\n",
        "            tuple -- (kernel3 output, concat output, skip connection 1, skip connection 2)\n",
        "        \"\"\"        \n",
        "\n",
        "        x1 = self.conv1_1(kernelconcat_inp)\n",
        "        x1 = self.conv1_2(x1)\n",
        "\n",
        "        x5 = self.conv5_1(kernelconcat_inp)\n",
        "        x5 = self.conv5_2(x5)\n",
        "        \n",
        "        concat = tf.concat([x1, x5], axis=3)\n",
        "        concat_pool = self.agg_pool(concat)\n",
        "\n",
        "        x3 = x3_1 = self.conv3_1(kernel3_inp)\n",
        "        x3 = skip1 = self.conv3_2(x3)\n",
        "        x3_pool = self.conv3_pool(x3)\n",
        "\n",
        "        skip2 = tf.concat([x3_1, concat], axis=3)\n",
        "        return x3_pool, concat_pool, skip1, skip2\n",
        "\n",
        "class DecoderBlock(Layer):\n",
        "    def __init__(\n",
        "        self, \n",
        "        n_filters, \n",
        "        mode='upsampling'):\n",
        "        \"\"\"Initialize Decoding Block using UpSample layers\n",
        "\n",
        "        Arguments:\n",
        "            n_filters {int} -- number of filters for each conv2d layers\n",
        "\n",
        "        Keyword Arguments:\n",
        "            mode {str} -- Decoding mode (default: {'upsampling'})\n",
        "\n",
        "        Raises:\n",
        "            ValueError: when the mode is not 'upsampling' or 'transpose'\n",
        "        \"\"\"        \n",
        "    \n",
        "        super(DecoderBlock, self).__init__()\n",
        "        # self.conv_1 = Conv2D(n_filters, kernel_size=3, padding='same', activation='relu')\n",
        "        self.conv_1 = Conv2DBlock(n_filters, kernel_size=3)\n",
        "        # self.conv_2 = Conv2D(n_filters, kernel_size=3, padding='same')\n",
        "        self.conv_2 = Conv2DBlock(n_filters, kernel_size=3)\n",
        "\n",
        "        if mode == 'upsampling':\n",
        "            self.up = UpSampling2D(size=(2,2))\n",
        "        elif mode == 'transpose':\n",
        "            self.up = Conv2DTranspose(n_filters // 2, kernel_size=3, padding='same')\n",
        "        else:\n",
        "            raise ValueError()\n",
        "\n",
        "    def call(self, inp, skip1, skip2):\n",
        "        \"\"\"Feed forward the Decoding block\n",
        "\n",
        "        Arguments:\n",
        "            inp {tensor} -- the main input\n",
        "            skip1 {tensor} -- feature maps from skip connection 1\n",
        "            skip2 {tensor} -- feature maps from skip connection 2\n",
        "\n",
        "        Returns:\n",
        "            tensor -- output\n",
        "        \"\"\"        \n",
        "        x = self.up(inp)\n",
        "        x = self.conv_1(tf.concat([x, skip1], axis=3))\n",
        "        x = self.conv_2(tf.concat([x, skip2], axis=3))\n",
        "        return x\n"
      ],
      "execution_count": 0,
      "outputs": []
    },
    {
      "cell_type": "markdown",
      "metadata": {
        "id": "RbQwRHl5XTmk",
        "colab_type": "text"
      },
      "source": [
        "### Builder Functions"
      ]
    },
    {
      "cell_type": "code",
      "metadata": {
        "id": "A_IZ2hLibPOn",
        "colab_type": "code",
        "colab": {}
      },
      "source": [
        "def build_stan(\n",
        "    n_classes,\n",
        "    input_shape=(256, 256, 3),\n",
        "    filters=[32, 64, 128, 256, 512],\n",
        "    activation='sigmoid'\n",
        "):\n",
        "    \"\"\"Pure STAN builder using Conv blocks (no backbone)\n",
        "\n",
        "    Arguments:\n",
        "        n_classes {int} -- Number of classes\n",
        "\n",
        "    Keyword Arguments:\n",
        "        input_shape {tuple} -- The shape of input (default: {(256, 256, 3)})\n",
        "        filters {list} -- Declare number of filters for each encoding block (default: {[32, 64, 128, 256, 512]})\n",
        "        activation {str} -- activation function of the last layer before giving prediction\n",
        "    \"\"\"\n",
        "    # inp = InputLayer(input_shape=input_shape)\n",
        "    inp = Input(shape=input_shape)\n",
        "    \n",
        "    # Encoder\n",
        "    x3_pool, concat_pool, skip1_b1, skip2_b1 = EncoderBlock(filters[0])(\n",
        "        kernel3_inp=inp, kernelconcat_inp=inp)\n",
        "    \n",
        "    x3_pool, concat_pool, skip1_b2, skip2_b2 = EncoderBlock(filters[1])(\n",
        "        kernel3_inp=x3_pool, kernelconcat_inp=concat_pool)\n",
        "    \n",
        "    x3_pool, concat_pool, skip1_b3, skip2_b3 = EncoderBlock(filters[2])(\n",
        "        kernel3_inp=x3_pool, kernelconcat_inp=concat_pool)\n",
        "    \n",
        "    x3_pool, concat_pool, skip1_b4, skip2_b4 = EncoderBlock(filters[3])(\n",
        "        kernel3_inp=x3_pool, kernelconcat_inp=concat_pool)\n",
        "    \n",
        "    # middle\n",
        "    x3_pool         = Conv2DBlock(n_filters=filters[4], kernel_size=3)(x3_pool)\n",
        "    x3_pool         = Conv2DBlock(n_filters=filters[4], kernel_size=3)(x3_pool)\n",
        "    concat_pool_1   = Conv2DBlock(n_filters=filters[4], kernel_size=1)(concat_pool)\n",
        "    concat_pool_1   = Conv2DBlock(n_filters=filters[4], kernel_size=3)(concat_pool)\n",
        "    concat_pool_5   = Conv2DBlock(n_filters=filters[4], kernel_size=5)(concat_pool)\n",
        "    concat_pool_5   = Conv2DBlock(n_filters=filters[4], kernel_size=3)(concat_pool)\n",
        "\n",
        "    mid = tf.concat([x3_pool, concat_pool_1, concat_pool_5], axis=3, name='middle_fm')\n",
        "    \n",
        "    # Decoder\n",
        "    x = DecoderBlock(n_filters=filters[3])(mid, skip1_b4, skip2_b4)\n",
        "    x = DecoderBlock(n_filters=filters[2])(x, skip1_b3, skip2_b3)\n",
        "    x = DecoderBlock(n_filters=filters[1])(x, skip1_b2, skip2_b2)\n",
        "    x = DecoderBlock(n_filters=filters[0])(x, skip1_b1, skip2_b1)\n",
        "    \n",
        "    # Last conv layer\n",
        "    x = Conv2DBlock(n_filters=n_classes, kernel_size=3, activation=activation)(x)\n",
        "\n",
        "    return Model(inp, x)"
      ],
      "execution_count": 0,
      "outputs": []
    },
    {
      "cell_type": "code",
      "metadata": {
        "id": "wJyljG6ibZrd",
        "colab_type": "code",
        "colab": {}
      },
      "source": [
        "def freeze_model(model):\n",
        "    for layer in model.layers:\n",
        "        layer.trainable = True\n",
        "\n",
        "def STAN(\n",
        "    n_classes, \n",
        "    input_shape=(256, 256, 3),\n",
        "    encoder_weights=None,\n",
        "    output_activation='sigmoid',\n",
        "    freeze_encoder=False,\n",
        "    model_name='stan'\n",
        "):\n",
        "    \"\"\"[summary]\n",
        "\n",
        "    Arguments:\n",
        "        n_classes {[type]} -- [description]\n",
        "\n",
        "    Keyword Arguments:\n",
        "        input_shape {tuple} -- [description] (default: {(256, 256, 3)})\n",
        "        encoder_weights {[type]} -- [description] (default: {None})\n",
        "        output_activation {str} -- [description] (default: {'sigmoid'})\n",
        "        freeze_encoder {bool} -- [description] (default: {False})\n",
        "    \"\"\"    \n",
        "    model = build_stan(n_classes=n_classes, input_shape=input_shape, activation=output_activation)\n",
        "    \n",
        "    if freeze_encoder:\n",
        "        freeze_model(model)\n",
        "    \n",
        "    # model.name = model_name\n",
        "\n",
        "    return model"
      ],
      "execution_count": 0,
      "outputs": []
    },
    {
      "cell_type": "markdown",
      "metadata": {
        "id": "6RG1msvuvgNv",
        "colab_type": "text"
      },
      "source": [
        "# Training on BUSI dataset"
      ]
    },
    {
      "cell_type": "markdown",
      "metadata": {
        "id": "moJ2HswZg0yP",
        "colab_type": "text"
      },
      "source": [
        "#### Loss functions"
      ]
    },
    {
      "cell_type": "code",
      "metadata": {
        "id": "sppFFdb3g0RI",
        "colab_type": "code",
        "colab": {}
      },
      "source": [
        "\n",
        "def _lovasz_grad(gt_sorted):\n",
        "    \"\"\"\n",
        "    Computes gradient of the Lovasz extension w.r.t sorted errors\n",
        "    See Alg. 1 in paper\n",
        "    \"\"\"\n",
        "    gts = tf.reduce_sum(gt_sorted)\n",
        "    intersection = gts - tf.cumsum(gt_sorted)\n",
        "    union = gts + tf.cumsum(1. - gt_sorted)\n",
        "    jaccard = 1. - intersection / union\n",
        "    jaccard = tf.concat((jaccard[0:1], jaccard[1:] - jaccard[:-1]), 0)\n",
        "    return jaccard\n",
        "\n",
        "\n",
        "def _flatten_binary_scores(scores, labels, ignore=None):\n",
        "    \"\"\"\n",
        "    Flattens predictions in the batch (binary case)\n",
        "    Remove labels equal to 'ignore'\n",
        "    \"\"\"\n",
        "    scores = tf.reshape(scores, (-1,))\n",
        "    labels = tf.reshape(labels, (-1,))\n",
        "    if ignore is None:\n",
        "        return scores, labels\n",
        "    valid = tf.not_equal(labels, ignore)\n",
        "    vscores = tf.boolean_mask(scores, valid, name='valid_scores')\n",
        "    vlabels = tf.boolean_mask(labels, valid, name='valid_labels')\n",
        "    return vscores, vlabels\n",
        "\n",
        "\n",
        "def _lovasz_hinge(logits, labels, per_image=True, ignore=None):\n",
        "    \"\"\"\n",
        "    Binary Lovasz hinge loss\n",
        "      logits: [B, H, W] Variable, logits at each pixel (between -\\infty and +\\infty)\n",
        "      labels: [B, H, W] Tensor, binary ground truth masks (0 or 1)\n",
        "      per_image: compute the loss per image instead of per batch\n",
        "      ignore: void class id\n",
        "    \"\"\"\n",
        "    if per_image:\n",
        "        def treat_image(log_lab):\n",
        "            log, lab = log_lab\n",
        "            log, lab = tf.expand_dims(log, 0), tf.expand_dims(lab, 0)\n",
        "            log, lab = _flatten_binary_scores(log, lab, ignore)\n",
        "            return _lovasz_hinge_flat(log, lab)\n",
        "        losses = tf.map_fn(treat_image, (logits, labels), dtype=tf.float32)\n",
        "        loss = tf.reduce_mean(losses)\n",
        "    else:\n",
        "        loss = _lovasz_hinge_flat(*_flatten_binary_scores(logits, labels, ignore))\n",
        "    return loss\n",
        "\n",
        "\n",
        "def _lovasz_hinge_flat(logits, labels):\n",
        "    \"\"\"\n",
        "    Binary Lovasz hinge loss\n",
        "      logits: [P] Variable, logits at each prediction (between -\\infty and +\\infty)\n",
        "      labels: [P] Tensor, binary ground truth labels (0 or 1)\n",
        "      ignore: label to ignore\n",
        "    \"\"\"\n",
        "\n",
        "    def compute_loss():\n",
        "        labelsf = tf.cast(labels, logits.dtype)\n",
        "        signs = 2. * labelsf - 1.\n",
        "        errors = 1. - logits * tf.stop_gradient(signs)\n",
        "        errors_sorted, perm = tf.nn.top_k(errors, k=tf.shape(errors)[0], name=\"descending_sort\")\n",
        "        gt_sorted = tf.gather(labelsf, perm)\n",
        "        grad = _lovasz_grad(gt_sorted)\n",
        "        loss = tf.tensordot(\n",
        "            tf.nn.relu(errors_sorted),\n",
        "            tf.stop_gradient(grad),\n",
        "            1,\n",
        "            name=\"loss_non_void\"\n",
        "        )\n",
        "        return loss\n",
        "\n",
        "    # deal with the void prediction case (only void pixels)\n",
        "    loss = tf.cond(tf.equal(tf.shape(logits)[0], 0),\n",
        "                   lambda: tf.reduce_sum(logits) * 0.,\n",
        "                   compute_loss,\n",
        "                   strict=True,\n",
        "                   name=\"loss\"\n",
        "                   )\n",
        "    return loss\n",
        "\n",
        "\n",
        "def lovasz_loss(y_true, y_pred):\n",
        "    y_true = K.cast(K.squeeze(y_true, -1), 'int32')\n",
        "    y_pred = K.cast(K.squeeze(y_pred, -1), 'float32')\n",
        "    # logits = K.log(y_pred / (1. - y_pred))\n",
        "    logits = y_pred  # Jiaxin\n",
        "    loss = _lovasz_hinge(logits, y_true, per_image=True, ignore=None)\n",
        "    return loss\n",
        "\n",
        "\n",
        "def combination_loss(y_true, y_pred):\n",
        "    return 0.5 * binary_crossentropy(y_true, y_pred) + 0.5 * lovasz_loss(y_true, y_pred)\n",
        "\n",
        "def dice_cost(y_true, y_predicted):\n",
        "\n",
        "    return -dice_coef(y_true, y_predicted)"
      ],
      "execution_count": 0,
      "outputs": []
    },
    {
      "cell_type": "markdown",
      "metadata": {
        "id": "qKvbLiGkxnhW",
        "colab_type": "text"
      },
      "source": [
        "#### Metrics"
      ]
    },
    {
      "cell_type": "code",
      "metadata": {
        "id": "8hBjtjaRvexh",
        "colab_type": "code",
        "colab": {}
      },
      "source": [
        "def mean_iou(y_true, y_pred):\n",
        "    prec = []\n",
        "    for t in np.arange(0.5, 1.0, 0.05):\n",
        "        y_pred_ = tf.cast(y_pred > t, tf.int32)\n",
        "        score, up_opt = tf.metrics.mean_iou(y_true, y_pred_, 2)\n",
        "        K.get_session().run(tf.local_variables_initializer())\n",
        "        with tf.control_dependencies([up_opt]):\n",
        "            score = tf.identity(score)\n",
        "        prec.append(score)\n",
        "    return K.mean(K.stack(prec), axis=0)\n",
        "\n",
        "def dice_coef(y_true, y_pred):\n",
        "    smooth = 1.\n",
        "    y_true_f = K.flatten(y_true)\n",
        "    y_pred_f = K.flatten(y_pred)\n",
        "    intersection = K.sum(y_true_f * y_pred_f)\n",
        "    return (2. * intersection + smooth) / (K.sum(y_true_f) + K.sum(y_pred_f) + smooth)"
      ],
      "execution_count": 0,
      "outputs": []
    },
    {
      "cell_type": "markdown",
      "metadata": {
        "id": "SCy3BS3ZxvaE",
        "colab_type": "text"
      },
      "source": [
        "#### Callbacks"
      ]
    },
    {
      "cell_type": "code",
      "metadata": {
        "id": "p26dftOoxxHS",
        "colab_type": "code",
        "colab": {}
      },
      "source": [
        "callbacks = [\n",
        "    ModelCheckpoint('model.h5', monitor='val_loss', verbose=1, save_best_only=True),\n",
        "    EarlyStopping(monitor='val_loss', patience=5),\n",
        "    ReduceLROnPlateau(monitor='val_loss', patience=3)\n",
        "]"
      ],
      "execution_count": 0,
      "outputs": []
    },
    {
      "cell_type": "markdown",
      "metadata": {
        "id": "-QMZpimsxzDe",
        "colab_type": "text"
      },
      "source": [
        "#### Generator\n"
      ]
    },
    {
      "cell_type": "code",
      "metadata": {
        "id": "auovnUJVzvKm",
        "colab_type": "code",
        "colab": {}
      },
      "source": [
        "class BaseGenerator(Iterator):\n",
        "    def __init__(\n",
        "        self,\n",
        "        fnames,\n",
        "        data_dir='.',\n",
        "        n_classes=1,\n",
        "        resized_shape=(256, 256),\n",
        "        batch_size=8,\n",
        "        shuffle=False,\n",
        "        seed=None,\n",
        "        **kwargs\n",
        "    ):\n",
        "        \"\"\"Generator initialization, inherits Iterator class\n",
        "\n",
        "        Arguments:\n",
        "            fnames {list} -- List of filenames from dataset (not including extension part)\n",
        "\n",
        "        Keyword Arguments:\n",
        "            data_dir {str} -- The main dataset directory (default: {'.'})\n",
        "            n_classes {int} -- Number of classes (default: {1})\n",
        "            resized_shape {tuple} -- All images are reshaped to this size (default: {(256, 256)})\n",
        "            batch_size {int} -- Batch size (default: {8})\n",
        "            shuffle {bool} -- (default: {False})\n",
        "        \"\"\"    \n",
        "        self.fnames = fnames\n",
        "        self.data_dir = data_dir\n",
        "        self.seed = seed\n",
        "        self.ids = np.array(range(len(fnames)))\n",
        "        self.n_samples = len(self.ids)\n",
        "        self.resized_shape = resized_shape\n",
        "        \n",
        "        self.shuffle = shuffle\n",
        "        self.batch_size = batch_size\n",
        "        self.cursor = 0\n",
        "\n",
        "        self.img_gen = ImageDataGenerator(**kwargs)\n",
        "        self.msk_gen = ImageDataGenerator(**kwargs)\n",
        "\n",
        "    def __len__(self):\n",
        "        return math.ceil(self.n_samples / self.batch_size)\n",
        "    \n",
        "    def on_epoch_end(self):\n",
        "        self.cursor = 0\n",
        "        if self.shuffle:\n",
        "            np.random.shuffle(self.ids)\n",
        "\n",
        "    def __getitem__(self, idx):\n",
        "        indices = self.ids[idx * self.batch_size:(idx + 1) * self.batch_size]\n",
        "        # for i in range(self.batch_size):\n",
        "        #     indices.append(self.ids[self.cursor])\n",
        "        #     if self.cursor == self.n_samples - 1:\n",
        "        #         self.cursor = 0\n",
        "        #     else:\n",
        "        #         self.cursor += 1\n",
        "        imgs, msks = self._read_data(indices)\n",
        "        imgs, msks = self._preprocessing(imgs, msks)\n",
        "        return imgs, msks\n",
        "\n",
        "    def _preprocessing(self, imgs, msks=None):\n",
        "        # imgs[..., 0] -= 103.939\n",
        "        # imgs[..., 1] -= 116.779\n",
        "        # imgs[..., 2] -= 123.68\n",
        "        imgs /= 255\n",
        "        # imgs -= 1.\n",
        "        imgs = self.img_gen.random_transform(x=imgs, seed=self.seed)\n",
        "        if msks is not None:\n",
        "            msks /= 255\n",
        "            msks = self.msk_gen.random_transform(x=msks, seed=self.seed)\n",
        "            return imgs, msks\n",
        "        return imgs\n",
        "\n",
        "    def _read_data(self, ids):\n",
        "        raise NotImplementedError\n",
        "\n",
        "class BUSIGenerator(BaseGenerator):\n",
        "    def __init__(self, fnames, input_channel=3, **kwargs):\n",
        "        super(BUSIGenerator, self).__init__(fnames, **kwargs)\n",
        "        self.input_channel = input_channel\n",
        "\n",
        "    def _read_data(self, ids):\n",
        "        imgs = np.empty((self.batch_size, self.resized_shape[0],\n",
        "                        self.resized_shape[1], self.input_channel))\n",
        "        msks = np.empty((self.batch_size, self.resized_shape[0], self.resized_shape[1], 1))\n",
        "\n",
        "        for i, index in enumerate(ids):\n",
        "            file_name = self.fnames[index]\n",
        "            # img = Image.open(os.path.join(self.data_dir, 'images', f'{self.fnames[index]}.png'))\n",
        "            # msk = Image.open(os.path.join(self.data_dir, 'masks', f'{self.fnames[index]}.png'))\n",
        "            \n",
        "            # if self.resized_shape:\n",
        "            #     img = img.resize(self.resized_shape, Image.NEAREST)\n",
        "            #     if self.input_channel == 1:\n",
        "            #         img = img.convert('L')\n",
        "            #     else:\n",
        "            #         img = img.convert('RGB')\n",
        "            #     msk = msk.resize(self.resized_shape, Image.NEAREST).convert('L')\n",
        "            \n",
        "            # print(f'{self.fnames[index]}.png')\n",
        "            # imgs[i] = np.array(img)\n",
        "            # msks[i] = np.expand_dims(np.array(msk, dtype=np.int32), axis=2)\n",
        "            read_im_mode = 1\n",
        "            if self.input_channel == 1:\n",
        "                read_im_mode = 0\n",
        "            img = cv2.imread(os.path.join(self.data_dir, 'images', f'{file_name}.png'), read_im_mode)\n",
        "            msk = cv2.imread(os.path.join(self.data_dir, 'masks', f'{file_name}.png'), 0)\n",
        "\n",
        "            if self.resized_shape:\n",
        "                img = cv2.resize(img, self.resized_shape)\n",
        "                msk = cv2.resize(msk, self.resized_shape)\n",
        "\n",
        "            imgs[i] = img\n",
        "            msks[i] = np.expand_dims(msk, axis=2)\n",
        "        \n",
        "        return imgs, msks"
      ],
      "execution_count": 0,
      "outputs": []
    },
    {
      "cell_type": "code",
      "metadata": {
        "id": "VPafV3Sy5pOF",
        "colab_type": "code",
        "colab": {}
      },
      "source": [
        "BATCH_SIZE = 8\n",
        "input_shape = (256, 256, 3)"
      ],
      "execution_count": 0,
      "outputs": []
    },
    {
      "cell_type": "code",
      "metadata": {
        "id": "hWPuSLTHoRH0",
        "colab_type": "code",
        "colab": {}
      },
      "source": [
        "fnames = [os.path.splitext(f)[0] for f in os.listdir('./images')]"
      ],
      "execution_count": 0,
      "outputs": []
    },
    {
      "cell_type": "code",
      "metadata": {
        "id": "b9zJ-NEMpWX9",
        "colab_type": "code",
        "colab": {}
      },
      "source": [
        "from sklearn.model_selection import train_test_split\n",
        "im_train, im_val, ms_train, ms_val = train_test_split(fnames, fnames, test_size=0.15, random_state=10)\n",
        "im_train, im_test, ms_train, ms_test = train_test_split(im_train, ms_train, test_size=0.3, random_state=10)"
      ],
      "execution_count": 0,
      "outputs": []
    },
    {
      "cell_type": "code",
      "metadata": {
        "id": "EdoulOB4qyaz",
        "colab_type": "code",
        "outputId": "fb9961d9-41b1-463d-adf9-9feb5fd6e6fa",
        "colab": {
          "base_uri": "https://localhost:8080/",
          "height": 68
        }
      },
      "source": [
        "print(len(im_train))\n",
        "print(len(im_val))\n",
        "print(len(im_test))"
      ],
      "execution_count": 13,
      "outputs": [
        {
          "output_type": "stream",
          "text": [
            "560\n",
            "142\n",
            "241\n"
          ],
          "name": "stdout"
        }
      ]
    },
    {
      "cell_type": "code",
      "metadata": {
        "id": "dg2Up2Q5rfQX",
        "colab_type": "code",
        "colab": {}
      },
      "source": [
        "train_gen = BUSIGenerator(im_train, batch_size=BATCH_SIZE, input_channel=input_shape[-1],\n",
        "                          resized_shape=(input_shape[0], input_shape[1]), \n",
        "                          horizontal_flip=True, seed=10)\n",
        "val_gen = BUSIGenerator(im_val, batch_size=BATCH_SIZE, \n",
        "                        resized_shape=(input_shape[0], input_shape[1]), \n",
        "                        horizontal_flip=True, seed=10)\n",
        "# rotation_range=20, width_shift_range=10,"
      ],
      "execution_count": 0,
      "outputs": []
    },
    {
      "cell_type": "code",
      "metadata": {
        "id": "X-dg0rZOqiSJ",
        "colab_type": "code",
        "colab": {}
      },
      "source": [
        "im, msk =  train_gen[1]"
      ],
      "execution_count": 0,
      "outputs": []
    },
    {
      "cell_type": "code",
      "metadata": {
        "id": "Sa8JinB2sKpW",
        "colab_type": "code",
        "colab": {
          "base_uri": "https://localhost:8080/",
          "height": 286
        },
        "outputId": "0328c669-318a-4140-b9de-fe0ae733776f"
      },
      "source": [
        "plt.imshow(msk[2][:,:,0], cmap='gray')"
      ],
      "execution_count": 16,
      "outputs": [
        {
          "output_type": "execute_result",
          "data": {
            "text/plain": [
              "<matplotlib.image.AxesImage at 0x7f34a50f8048>"
            ]
          },
          "metadata": {
            "tags": []
          },
          "execution_count": 16
        },
        {
          "output_type": "display_data",
          "data": {
            "image/png": "[encoded data removed]",
            "text/plain": [
              "<Figure size 432x288 with 1 Axes>"
            ]
          },
          "metadata": {
            "tags": [],
            "needs_background": "light"
          }
        }
      ]
    },
    {
      "cell_type": "code",
      "metadata": {
        "id": "bPpP6eOj0j4h",
        "colab_type": "code",
        "colab": {
          "base_uri": "https://localhost:8080/",
          "height": 34
        },
        "outputId": "0aabb1f8-d1d7-4164-edb5-9c6b069ac666"
      },
      "source": [
        "msk.max()"
      ],
      "execution_count": 17,
      "outputs": [
        {
          "output_type": "execute_result",
          "data": {
            "text/plain": [
              "1.0"
            ]
          },
          "metadata": {
            "tags": []
          },
          "execution_count": 17
        }
      ]
    },
    {
      "cell_type": "code",
      "metadata": {
        "id": "Z1h8o1yvq4uB",
        "colab_type": "code",
        "colab": {
          "base_uri": "https://localhost:8080/",
          "height": 286
        },
        "outputId": "b09fd612-ea8d-42b7-a2ce-81b0684e5071"
      },
      "source": [
        "plt.imshow(im[2])"
      ],
      "execution_count": 18,
      "outputs": [
        {
          "output_type": "execute_result",
          "data": {
            "text/plain": [
              "<matplotlib.image.AxesImage at 0x7f34a4c47630>"
            ]
          },
          "metadata": {
            "tags": []
          },
          "execution_count": 18
        },
        {
          "output_type": "display_data",
          "data": {
            "image/png": "[encoded data removed]",
            "text/plain": [
              "<Figure size 432x288 with 1 Axes>"
            ]
          },
          "metadata": {
            "tags": [],
            "needs_background": "light"
          }
        }
      ]
    },
    {
      "cell_type": "code",
      "metadata": {
        "id": "JLnzZoG05QNT",
        "colab_type": "code",
        "colab": {
          "base_uri": "https://localhost:8080/",
          "height": 34
        },
        "outputId": "53d20a3b-997f-4450-a2b7-24ce432a5885"
      },
      "source": [
        "im.max()"
      ],
      "execution_count": 19,
      "outputs": [
        {
          "output_type": "execute_result",
          "data": {
            "text/plain": [
              "1.0"
            ]
          },
          "metadata": {
            "tags": []
          },
          "execution_count": 19
        }
      ]
    },
    {
      "cell_type": "markdown",
      "metadata": {
        "id": "y3Ys4aDOG9IU",
        "colab_type": "text"
      },
      "source": [
        "#### Training"
      ]
    },
    {
      "cell_type": "code",
      "metadata": {
        "id": "y-ZnfALZwrMe",
        "colab_type": "code",
        "colab": {
          "base_uri": "https://localhost:8080/",
          "height": 306
        },
        "outputId": "83546d51-0596-4b78-c8e6-00209f614153"
      },
      "source": [
        "!nvidia-smi"
      ],
      "execution_count": 20,
      "outputs": [
        {
          "output_type": "stream",
          "text": [
            "Mon May 11 04:02:53 2020       \n",
            "+-----------------------------------------------------------------------------+\n",
            "| NVIDIA-SMI 440.82       Driver Version: 418.67       CUDA Version: 10.1     |\n",
            "|-------------------------------+----------------------+----------------------+\n",
            "| GPU  Name        Persistence-M| Bus-Id        Disp.A | Volatile Uncorr. ECC |\n",
            "| Fan  Temp  Perf  Pwr:Usage/Cap|         Memory-Usage | GPU-Util  Compute M. |\n",
            "|===============================+======================+======================|\n",
            "|   0  Tesla K80           Off  | 00000000:00:04.0 Off |                    0 |\n",
            "| N/A   71C    P8    30W / 149W |      0MiB / 11441MiB |      0%      Default |\n",
            "+-------------------------------+----------------------+----------------------+\n",
            "                                                                               \n",
            "+-----------------------------------------------------------------------------+\n",
            "| Processes:                                                       GPU Memory |\n",
            "|  GPU       PID   Type   Process name                             Usage      |\n",
            "|=============================================================================|\n",
            "|  No running processes found                                                 |\n",
            "+-----------------------------------------------------------------------------+\n"
          ],
          "name": "stdout"
        }
      ]
    },
    {
      "cell_type": "code",
      "metadata": {
        "id": "wgp2Zv5-AtVX",
        "colab_type": "code",
        "colab": {}
      },
      "source": [
        "model = STAN(1, input_shape=input_shape)"
      ],
      "execution_count": 0,
      "outputs": []
    },
    {
      "cell_type": "code",
      "metadata": {
        "id": "KDe_vYh9JFvJ",
        "colab_type": "code",
        "colab": {}
      },
      "source": [
        "optimizer = tf.keras.optimizers.Adam(learning_rate=0.0001)\n",
        "model.compile(optimizer=optimizer, loss='bce', metrics=[dice_coef])"
      ],
      "execution_count": 0,
      "outputs": []
    },
    {
      "cell_type": "code",
      "metadata": {
        "id": "69e4AMgFl6AJ",
        "colab_type": "code",
        "outputId": "bfa41e9a-d9f3-492f-a798-e4e0455cfc9c",
        "colab": {
          "base_uri": "https://localhost:8080/",
          "height": 51
        }
      },
      "source": [
        "model.fit(x=train_gen, epochs=10, batch_size=BATCH_SIZE, steps_per_epoch=len(train_gen), validation_data=val_gen, validation_steps=1)"
      ],
      "execution_count": 0,
      "outputs": [
        {
          "output_type": "stream",
          "text": [
            "Epoch 1/10\n",
            "62/70 [=========================>....] - ETA: 24s - loss: 0.3529 - dice_coef: 0.0948"
          ],
          "name": "stdout"
        }
      ]
    },
    {
      "cell_type": "code",
      "metadata": {
        "id": "MCjQPs4N5c_6",
        "colab_type": "code",
        "colab": {}
      },
      "source": [
        ""
      ],
      "execution_count": 0,
      "outputs": []
    }
  ]
}